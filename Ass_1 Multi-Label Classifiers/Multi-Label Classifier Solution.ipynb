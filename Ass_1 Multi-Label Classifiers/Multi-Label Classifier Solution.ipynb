{
 "cells": [
  {
   "cell_type": "markdown",
   "metadata": {},
   "source": [
    "# COMP47590: Advanced Machine Learning\n",
    "# Assignment 1: Multi-label Classification"
   ]
  },
  {
   "cell_type": "markdown",
   "metadata": {},
   "source": [
    "Name(s): Xiao Li\n",
    "\n",
    "Student Number(s): 15206109"
   ]
  },
  {
   "cell_type": "markdown",
   "metadata": {},
   "source": [
    "## Import Packages Etc"
   ]
  },
  {
   "cell_type": "code",
   "execution_count": 2,
   "metadata": {
    "pycharm": {
     "is_executing": false
    }
   },
   "outputs": [
    {
     "name": "stderr",
     "output_type": "stream",
     "text": [
      "Using TensorFlow backend.\n",
      "/opt/anaconda3/lib/python3.7/site-packages/tensorflow/python/framework/dtypes.py:526: FutureWarning: Passing (type, 1) or '1type' as a synonym of type is deprecated; in a future version of numpy, it will be understood as (type, (1,)) / '(1,)type'.\n",
      "  _np_qint8 = np.dtype([(\"qint8\", np.int8, 1)])\n",
      "/opt/anaconda3/lib/python3.7/site-packages/tensorflow/python/framework/dtypes.py:527: FutureWarning: Passing (type, 1) or '1type' as a synonym of type is deprecated; in a future version of numpy, it will be understood as (type, (1,)) / '(1,)type'.\n",
      "  _np_quint8 = np.dtype([(\"quint8\", np.uint8, 1)])\n",
      "/opt/anaconda3/lib/python3.7/site-packages/tensorflow/python/framework/dtypes.py:528: FutureWarning: Passing (type, 1) or '1type' as a synonym of type is deprecated; in a future version of numpy, it will be understood as (type, (1,)) / '(1,)type'.\n",
      "  _np_qint16 = np.dtype([(\"qint16\", np.int16, 1)])\n",
      "/opt/anaconda3/lib/python3.7/site-packages/tensorflow/python/framework/dtypes.py:529: FutureWarning: Passing (type, 1) or '1type' as a synonym of type is deprecated; in a future version of numpy, it will be understood as (type, (1,)) / '(1,)type'.\n",
      "  _np_quint16 = np.dtype([(\"quint16\", np.uint16, 1)])\n",
      "/opt/anaconda3/lib/python3.7/site-packages/tensorflow/python/framework/dtypes.py:530: FutureWarning: Passing (type, 1) or '1type' as a synonym of type is deprecated; in a future version of numpy, it will be understood as (type, (1,)) / '(1,)type'.\n",
      "  _np_qint32 = np.dtype([(\"qint32\", np.int32, 1)])\n",
      "/opt/anaconda3/lib/python3.7/site-packages/tensorflow/python/framework/dtypes.py:535: FutureWarning: Passing (type, 1) or '1type' as a synonym of type is deprecated; in a future version of numpy, it will be understood as (type, (1,)) / '(1,)type'.\n",
      "  np_resource = np.dtype([(\"resource\", np.ubyte, 1)])\n"
     ]
    }
   ],
   "source": [
    "import pandas as pd\n",
    "import numpy as np\n",
    "import matplotlib.pyplot as plt\n",
    "import math\n",
    "from sklearn.linear_model import LogisticRegression\n",
    "\n",
    "from sklearn.model_selection import GridSearchCV\n",
    "from sklearn.model_selection import cross_val_score\n",
    "from sklearn.model_selection import train_test_split\n",
    "from sklearn.base import BaseEstimator, ClassifierMixin\n",
    "from sklearn.naive_bayes import GaussianNB\n",
    "from sklearn.metrics import hamming_loss, f1_score\n",
    "from sklearn.neighbors import KNeighborsClassifier\n",
    "from sklearn.utils.validation import check_X_y, check_array, check_is_fitted\n",
    "from sklearn.utils.multiclass import unique_labels\n",
    "from sklearn import metrics\n",
    "from imblearn.under_sampling import RandomUnderSampler\n"
   ]
  },
  {
   "cell_type": "markdown",
   "metadata": {},
   "source": [
    "## Task 0: Load the Yeast Dataset"
   ]
  },
  {
   "cell_type": "code",
   "execution_count": 3,
   "metadata": {
    "pycharm": {
     "is_executing": false
    }
   },
   "outputs": [
    {
     "data": {
      "text/html": [
       "<div>\n",
       "<style scoped>\n",
       "    .dataframe tbody tr th:only-of-type {\n",
       "        vertical-align: middle;\n",
       "    }\n",
       "\n",
       "    .dataframe tbody tr th {\n",
       "        vertical-align: top;\n",
       "    }\n",
       "\n",
       "    .dataframe thead th {\n",
       "        text-align: right;\n",
       "    }\n",
       "</style>\n",
       "<table border=\"1\" class=\"dataframe\">\n",
       "  <thead>\n",
       "    <tr style=\"text-align: right;\">\n",
       "      <th></th>\n",
       "      <th>Att1</th>\n",
       "      <th>Att2</th>\n",
       "      <th>Att3</th>\n",
       "      <th>Att4</th>\n",
       "      <th>Att5</th>\n",
       "      <th>Att6</th>\n",
       "      <th>Att7</th>\n",
       "      <th>Att8</th>\n",
       "      <th>Att9</th>\n",
       "      <th>Att10</th>\n",
       "      <th>...</th>\n",
       "      <th>Class5</th>\n",
       "      <th>Class6</th>\n",
       "      <th>Class7</th>\n",
       "      <th>Class8</th>\n",
       "      <th>Class9</th>\n",
       "      <th>Class10</th>\n",
       "      <th>Class11</th>\n",
       "      <th>Class12</th>\n",
       "      <th>Class13</th>\n",
       "      <th>Class14</th>\n",
       "    </tr>\n",
       "  </thead>\n",
       "  <tbody>\n",
       "    <tr>\n",
       "      <th>0</th>\n",
       "      <td>0.004168</td>\n",
       "      <td>-0.170975</td>\n",
       "      <td>-0.156748</td>\n",
       "      <td>-0.142151</td>\n",
       "      <td>0.058781</td>\n",
       "      <td>0.026851</td>\n",
       "      <td>0.197719</td>\n",
       "      <td>0.041850</td>\n",
       "      <td>0.066938</td>\n",
       "      <td>-0.056617</td>\n",
       "      <td>...</td>\n",
       "      <td>0</td>\n",
       "      <td>0</td>\n",
       "      <td>1</td>\n",
       "      <td>1</td>\n",
       "      <td>0</td>\n",
       "      <td>0</td>\n",
       "      <td>0</td>\n",
       "      <td>1</td>\n",
       "      <td>1</td>\n",
       "      <td>0</td>\n",
       "    </tr>\n",
       "    <tr>\n",
       "      <th>1</th>\n",
       "      <td>-0.103956</td>\n",
       "      <td>0.011879</td>\n",
       "      <td>-0.098986</td>\n",
       "      <td>-0.054501</td>\n",
       "      <td>-0.007970</td>\n",
       "      <td>0.049113</td>\n",
       "      <td>-0.030580</td>\n",
       "      <td>-0.077933</td>\n",
       "      <td>-0.080529</td>\n",
       "      <td>-0.016267</td>\n",
       "      <td>...</td>\n",
       "      <td>0</td>\n",
       "      <td>0</td>\n",
       "      <td>0</td>\n",
       "      <td>0</td>\n",
       "      <td>0</td>\n",
       "      <td>0</td>\n",
       "      <td>0</td>\n",
       "      <td>0</td>\n",
       "      <td>0</td>\n",
       "      <td>0</td>\n",
       "    </tr>\n",
       "    <tr>\n",
       "      <th>2</th>\n",
       "      <td>0.509949</td>\n",
       "      <td>0.401709</td>\n",
       "      <td>0.293799</td>\n",
       "      <td>0.087714</td>\n",
       "      <td>0.011686</td>\n",
       "      <td>-0.006411</td>\n",
       "      <td>-0.006255</td>\n",
       "      <td>0.013646</td>\n",
       "      <td>-0.040666</td>\n",
       "      <td>-0.024447</td>\n",
       "      <td>...</td>\n",
       "      <td>0</td>\n",
       "      <td>0</td>\n",
       "      <td>0</td>\n",
       "      <td>0</td>\n",
       "      <td>0</td>\n",
       "      <td>0</td>\n",
       "      <td>0</td>\n",
       "      <td>1</td>\n",
       "      <td>1</td>\n",
       "      <td>0</td>\n",
       "    </tr>\n",
       "    <tr>\n",
       "      <th>3</th>\n",
       "      <td>0.119092</td>\n",
       "      <td>0.004412</td>\n",
       "      <td>-0.002262</td>\n",
       "      <td>0.072254</td>\n",
       "      <td>0.044512</td>\n",
       "      <td>-0.051467</td>\n",
       "      <td>0.074686</td>\n",
       "      <td>-0.007670</td>\n",
       "      <td>0.079438</td>\n",
       "      <td>0.062184</td>\n",
       "      <td>...</td>\n",
       "      <td>0</td>\n",
       "      <td>0</td>\n",
       "      <td>0</td>\n",
       "      <td>0</td>\n",
       "      <td>0</td>\n",
       "      <td>0</td>\n",
       "      <td>0</td>\n",
       "      <td>0</td>\n",
       "      <td>0</td>\n",
       "      <td>0</td>\n",
       "    </tr>\n",
       "    <tr>\n",
       "      <th>4</th>\n",
       "      <td>0.042037</td>\n",
       "      <td>0.007054</td>\n",
       "      <td>-0.069483</td>\n",
       "      <td>0.081015</td>\n",
       "      <td>-0.048207</td>\n",
       "      <td>0.089446</td>\n",
       "      <td>-0.004947</td>\n",
       "      <td>0.064456</td>\n",
       "      <td>-0.133387</td>\n",
       "      <td>0.068878</td>\n",
       "      <td>...</td>\n",
       "      <td>1</td>\n",
       "      <td>1</td>\n",
       "      <td>0</td>\n",
       "      <td>0</td>\n",
       "      <td>0</td>\n",
       "      <td>0</td>\n",
       "      <td>0</td>\n",
       "      <td>0</td>\n",
       "      <td>0</td>\n",
       "      <td>0</td>\n",
       "    </tr>\n",
       "    <tr>\n",
       "      <th>...</th>\n",
       "      <td>...</td>\n",
       "      <td>...</td>\n",
       "      <td>...</td>\n",
       "      <td>...</td>\n",
       "      <td>...</td>\n",
       "      <td>...</td>\n",
       "      <td>...</td>\n",
       "      <td>...</td>\n",
       "      <td>...</td>\n",
       "      <td>...</td>\n",
       "      <td>...</td>\n",
       "      <td>...</td>\n",
       "      <td>...</td>\n",
       "      <td>...</td>\n",
       "      <td>...</td>\n",
       "      <td>...</td>\n",
       "      <td>...</td>\n",
       "      <td>...</td>\n",
       "      <td>...</td>\n",
       "      <td>...</td>\n",
       "      <td>...</td>\n",
       "    </tr>\n",
       "    <tr>\n",
       "      <th>2412</th>\n",
       "      <td>-0.119784</td>\n",
       "      <td>0.001259</td>\n",
       "      <td>-0.123645</td>\n",
       "      <td>-0.015513</td>\n",
       "      <td>-0.059683</td>\n",
       "      <td>0.091032</td>\n",
       "      <td>-0.043302</td>\n",
       "      <td>0.229219</td>\n",
       "      <td>-0.071498</td>\n",
       "      <td>0.182709</td>\n",
       "      <td>...</td>\n",
       "      <td>0</td>\n",
       "      <td>0</td>\n",
       "      <td>0</td>\n",
       "      <td>0</td>\n",
       "      <td>0</td>\n",
       "      <td>0</td>\n",
       "      <td>0</td>\n",
       "      <td>0</td>\n",
       "      <td>0</td>\n",
       "      <td>0</td>\n",
       "    </tr>\n",
       "    <tr>\n",
       "      <th>2413</th>\n",
       "      <td>0.085327</td>\n",
       "      <td>0.058590</td>\n",
       "      <td>0.085268</td>\n",
       "      <td>-0.020897</td>\n",
       "      <td>0.068972</td>\n",
       "      <td>0.030125</td>\n",
       "      <td>0.078056</td>\n",
       "      <td>0.011346</td>\n",
       "      <td>0.052618</td>\n",
       "      <td>0.066093</td>\n",
       "      <td>...</td>\n",
       "      <td>0</td>\n",
       "      <td>0</td>\n",
       "      <td>0</td>\n",
       "      <td>0</td>\n",
       "      <td>0</td>\n",
       "      <td>0</td>\n",
       "      <td>0</td>\n",
       "      <td>1</td>\n",
       "      <td>1</td>\n",
       "      <td>0</td>\n",
       "    </tr>\n",
       "    <tr>\n",
       "      <th>2414</th>\n",
       "      <td>0.082526</td>\n",
       "      <td>-0.095571</td>\n",
       "      <td>-0.022019</td>\n",
       "      <td>-0.046793</td>\n",
       "      <td>-0.038360</td>\n",
       "      <td>0.041084</td>\n",
       "      <td>0.056509</td>\n",
       "      <td>0.011749</td>\n",
       "      <td>-0.029657</td>\n",
       "      <td>-0.012198</td>\n",
       "      <td>...</td>\n",
       "      <td>0</td>\n",
       "      <td>1</td>\n",
       "      <td>1</td>\n",
       "      <td>1</td>\n",
       "      <td>0</td>\n",
       "      <td>0</td>\n",
       "      <td>0</td>\n",
       "      <td>1</td>\n",
       "      <td>1</td>\n",
       "      <td>0</td>\n",
       "    </tr>\n",
       "    <tr>\n",
       "      <th>2415</th>\n",
       "      <td>-0.130830</td>\n",
       "      <td>0.008868</td>\n",
       "      <td>-0.009457</td>\n",
       "      <td>-0.058930</td>\n",
       "      <td>-0.041224</td>\n",
       "      <td>0.042269</td>\n",
       "      <td>0.117717</td>\n",
       "      <td>0.037388</td>\n",
       "      <td>-0.085563</td>\n",
       "      <td>0.136649</td>\n",
       "      <td>...</td>\n",
       "      <td>0</td>\n",
       "      <td>0</td>\n",
       "      <td>0</td>\n",
       "      <td>0</td>\n",
       "      <td>0</td>\n",
       "      <td>0</td>\n",
       "      <td>0</td>\n",
       "      <td>1</td>\n",
       "      <td>1</td>\n",
       "      <td>0</td>\n",
       "    </tr>\n",
       "    <tr>\n",
       "      <th>2416</th>\n",
       "      <td>-0.171578</td>\n",
       "      <td>-0.066536</td>\n",
       "      <td>0.168206</td>\n",
       "      <td>0.246831</td>\n",
       "      <td>0.079555</td>\n",
       "      <td>0.016528</td>\n",
       "      <td>-0.088908</td>\n",
       "      <td>-0.212926</td>\n",
       "      <td>-0.280230</td>\n",
       "      <td>-0.187064</td>\n",
       "      <td>...</td>\n",
       "      <td>0</td>\n",
       "      <td>0</td>\n",
       "      <td>0</td>\n",
       "      <td>0</td>\n",
       "      <td>0</td>\n",
       "      <td>0</td>\n",
       "      <td>0</td>\n",
       "      <td>1</td>\n",
       "      <td>1</td>\n",
       "      <td>0</td>\n",
       "    </tr>\n",
       "  </tbody>\n",
       "</table>\n",
       "<p>2417 rows × 117 columns</p>\n",
       "</div>"
      ],
      "text/plain": [
       "          Att1      Att2      Att3      Att4      Att5      Att6      Att7  \\\n",
       "0     0.004168 -0.170975 -0.156748 -0.142151  0.058781  0.026851  0.197719   \n",
       "1    -0.103956  0.011879 -0.098986 -0.054501 -0.007970  0.049113 -0.030580   \n",
       "2     0.509949  0.401709  0.293799  0.087714  0.011686 -0.006411 -0.006255   \n",
       "3     0.119092  0.004412 -0.002262  0.072254  0.044512 -0.051467  0.074686   \n",
       "4     0.042037  0.007054 -0.069483  0.081015 -0.048207  0.089446 -0.004947   \n",
       "...        ...       ...       ...       ...       ...       ...       ...   \n",
       "2412 -0.119784  0.001259 -0.123645 -0.015513 -0.059683  0.091032 -0.043302   \n",
       "2413  0.085327  0.058590  0.085268 -0.020897  0.068972  0.030125  0.078056   \n",
       "2414  0.082526 -0.095571 -0.022019 -0.046793 -0.038360  0.041084  0.056509   \n",
       "2415 -0.130830  0.008868 -0.009457 -0.058930 -0.041224  0.042269  0.117717   \n",
       "2416 -0.171578 -0.066536  0.168206  0.246831  0.079555  0.016528 -0.088908   \n",
       "\n",
       "          Att8      Att9     Att10  ...  Class5  Class6  Class7  Class8  \\\n",
       "0     0.041850  0.066938 -0.056617  ...       0       0       1       1   \n",
       "1    -0.077933 -0.080529 -0.016267  ...       0       0       0       0   \n",
       "2     0.013646 -0.040666 -0.024447  ...       0       0       0       0   \n",
       "3    -0.007670  0.079438  0.062184  ...       0       0       0       0   \n",
       "4     0.064456 -0.133387  0.068878  ...       1       1       0       0   \n",
       "...        ...       ...       ...  ...     ...     ...     ...     ...   \n",
       "2412  0.229219 -0.071498  0.182709  ...       0       0       0       0   \n",
       "2413  0.011346  0.052618  0.066093  ...       0       0       0       0   \n",
       "2414  0.011749 -0.029657 -0.012198  ...       0       1       1       1   \n",
       "2415  0.037388 -0.085563  0.136649  ...       0       0       0       0   \n",
       "2416 -0.212926 -0.280230 -0.187064  ...       0       0       0       0   \n",
       "\n",
       "      Class9  Class10  Class11  Class12  Class13  Class14  \n",
       "0          0        0        0        1        1        0  \n",
       "1          0        0        0        0        0        0  \n",
       "2          0        0        0        1        1        0  \n",
       "3          0        0        0        0        0        0  \n",
       "4          0        0        0        0        0        0  \n",
       "...      ...      ...      ...      ...      ...      ...  \n",
       "2412       0        0        0        0        0        0  \n",
       "2413       0        0        0        1        1        0  \n",
       "2414       0        0        0        1        1        0  \n",
       "2415       0        0        0        1        1        0  \n",
       "2416       0        0        0        1        1        0  \n",
       "\n",
       "[2417 rows x 117 columns]"
      ]
     },
     "execution_count": 3,
     "metadata": {},
     "output_type": "execute_result"
    }
   ],
   "source": [
    "# Read the csv file\n",
    "dataSet = pd.read_csv(\"yeast.csv\")\n",
    "dataSet"
   ]
  },
  {
   "cell_type": "code",
   "execution_count": 3,
   "metadata": {
    "pycharm": {
     "is_executing": false,
     "name": "#%%\n"
    }
   },
   "outputs": [],
   "source": [
    "# Split the data set into description feature set and functional classses set.\n",
    "desFeatures = np.array(dataSet.iloc[:,:103])\n",
    "funcClasses = np.array(dataSet.iloc[:,103:])\n",
    "\n",
    "# Obtain all the labels from the functional class\n",
    "func_labels = list(dataSet.columns.values[103:])"
   ]
  },
  {
   "cell_type": "code",
   "execution_count": 4,
   "metadata": {
    "pycharm": {
     "is_executing": false,
     "name": "#%%\n"
    }
   },
   "outputs": [
    {
     "data": {
      "text/plain": [
       "<matplotlib.axes._subplots.AxesSubplot at 0x1a213af550>"
      ]
     },
     "execution_count": 4,
     "metadata": {},
     "output_type": "execute_result"
    },
    {
     "data": {
      "image/png": "[encoded data removed]",
      "text/plain": [
       "<Figure size 432x288 with 1 Axes>"
      ]
     },
     "metadata": {
      "needs_background": "light"
     },
     "output_type": "display_data"
    }
   ],
   "source": [
    "# Show each class count number\n",
    "classes = dict()\n",
    "for class_ in range(funcClasses[0].size):\n",
    "    key = \"Class\" + str(class_ + 1)\n",
    "    value = dataSet.iloc[:, 103 + class_].value_counts()[1]\n",
    "    classes[key] = [value]\n",
    "graph = pd.DataFrame.from_dict(classes)\n",
    "graph.plot(kind = \"bar\")"
   ]
  },
  {
   "cell_type": "markdown",
   "metadata": {},
   "source": [
    "## Task 1: Implement the Binary Relevance Algorithm"
   ]
  },
  {
   "cell_type": "code",
   "execution_count": 5,
   "metadata": {
    "pycharm": {
     "is_executing": false
    }
   },
   "outputs": [],
   "source": [
    "# Binary relevance algorithms\n",
    "class BinaryRelevance():\n",
    "    \n",
    "    # Constructor: input the classifer and the labels of the functional class\n",
    "    def __init__(self, classifier, labels):\n",
    "        self.models = dict()\n",
    "        self.labels = labels\n",
    "        self.classifier = classifier\n",
    "    \n",
    "    # Fit function, train the classifier\n",
    "    def fit(self, data_train, func_train):\n",
    "        # the features in all columns, except the class label part\n",
    "        X = data_train\n",
    "        \n",
    "        # Iterate all class labels, create each model\n",
    "        for i in range(len(self.labels)):\n",
    "            \n",
    "            # Obtain the current label\n",
    "            y = np.transpose(func_train[:, i])\n",
    "            \n",
    "            # Use the specific classifier to train the model\n",
    "            self.models[i] = self.classifier().fit(X, y)\n",
    "        return self\n",
    "            \n",
    "    # The prediction function\n",
    "    def predict(self, X):\n",
    "        \n",
    "        # Initialized an empty list to store all predictions\n",
    "        pred = list()\n",
    "        \n",
    "        # Iterate all class labels to get each prediction\n",
    "        for i in range(len(self.labels)):\n",
    "            pred.append(self.models[i].predict(X))\n",
    "            \n",
    "        return np.transpose(np.array(pred))\n",
    "    "
   ]
  },
  {
   "cell_type": "markdown",
   "metadata": {},
   "source": [
    "## Task 2: Implement the Binary Relevance Algorithm with Under-Sampling"
   ]
  },
  {
   "cell_type": "code",
   "execution_count": 6,
   "metadata": {
    "pycharm": {
     "is_executing": false
    }
   },
   "outputs": [],
   "source": [
    "# Binary relevance algorithms with under-sampling\n",
    "class BinaryRelevance_UnderS():\n",
    "    \n",
    "    # Constructor: input classifier, class labels and the boolean value of whether under-sampling, which true in default \n",
    "    def __init__(self, classifier, labels, underS = True):\n",
    "        self.models = dict()\n",
    "        self.labels = labels\n",
    "        self.classifier = classifier\n",
    "        self.underS = underS\n",
    "        \n",
    "    # Fit function, train the classifier\n",
    "    def fit(self, data_train, func_train):\n",
    "        # Generate an under sampler\n",
    "        underSample = RandomUnderSampler(random_state = 0)\n",
    "        X = data_train\n",
    "        \n",
    "        # Iterate all class labels, create each model\n",
    "        for i in range(len(self.labels)):\n",
    "            \n",
    "            # Obtain the current label\n",
    "            y = np.transpose(func_train[:, i])\n",
    "            \n",
    "            # Whether use the under-sampling\n",
    "            if self.underS:\n",
    "                X_bal, y_bal = underSample.fit_sample(X, y)\n",
    "                \n",
    "            # Use the specific classifier to train the model\n",
    "            self.models[i] = self.classifier().fit(X_bal, y_bal)\n",
    "        \n",
    "        return self\n",
    "            \n",
    "    def predict(self, X):\n",
    "        \n",
    "        # Initialized an empty list to store all predictions\n",
    "        pred = list()\n",
    "        \n",
    "        # Iterate all class labels to get each prediction\n",
    "        for i in range(len(self.labels)):\n",
    "            pred.append(self.models[i].predict(X))\n",
    "        \n",
    "        return np.transpose(np.array(pred))\n"
   ]
  },
  {
   "cell_type": "markdown",
   "metadata": {},
   "source": [
    "## Task 3: Compare the Performance of Different Binary Relevance Approaches"
   ]
  },
  {
   "cell_type": "code",
   "execution_count": 18,
   "metadata": {
    "pycharm": {
     "is_executing": false
    }
   },
   "outputs": [],
   "source": [
    "# Split the origin dataset in ratio 7:3\n",
    "data_train, data_test, func_train, func_test = train_test_split(desFeatures, funcClasses, random_state = 0, train_size = 0.7)"
   ]
  },
  {
   "cell_type": "code",
   "execution_count": 28,
   "metadata": {
    "pycharm": {
     "is_executing": false,
     "name": "#%%\n"
    }
   },
   "outputs": [
    {
     "name": "stdout",
     "output_type": "stream",
     "text": [
      "GaussianNB classifier without sampling:\n",
      "\n",
      "\t- Hamming Loss:  0.2973238882329791 \n",
      "\n",
      "\t- F1 Score:  0.4441966958169542\n",
      "\n",
      "\n",
      "GaussianNB classifier with sampling:\n",
      "\n",
      "\t- Hamming Loss:  0.37298307752853205 \n",
      "\n",
      "\t- F1 Score:  0.4393360855066418\n"
     ]
    }
   ],
   "source": [
    "# Generate a Binary relevance classifier without sampling\n",
    "br = BinaryRelevance(GaussianNB, func_labels)\n",
    "br.fit(data_train, func_train)\n",
    "func_pred = br.predict(data_test)\n",
    "\n",
    "# Calculate the hamming loss\n",
    "br_hamming_loss = hamming_loss(func_test, func_pred)\n",
    "\n",
    "# Calculate the f1 score\n",
    "br_f1_score = f1_score(func_test, func_pred, average = \"macro\")\n",
    "\n",
    "\n",
    "# Generate a Binary relevance classifier with sampling\n",
    "br_us = BinaryRelevance_UnderS(GaussianNB, func_labels, True)\n",
    "br_us.fit(data_train, func_train)\n",
    "func_us_pred = br_us.predict(data_test)\n",
    "\n",
    "# Calculate the hamming loss\n",
    "br_us_hamming_loss = hamming_loss(func_test, func_us_pred)\n",
    "\n",
    "# Calculate the f1 score\n",
    "br_us_f1_score = f1_score(func_test, func_us_pred, average = \"macro\")\n",
    "\n",
    "print(\"GaussianNB classifier without sampling:\\n\")\n",
    "print(\"\\t- Hamming Loss: \", br_hamming_loss, \"\\n\")\n",
    "print(\"\\t- F1 Score: \", br_f1_score)\n",
    "\n",
    "print(\"\\n\\nGaussianNB classifier with sampling:\\n\")\n",
    "print(\"\\t- Hamming Loss: \", br_us_hamming_loss, \"\\n\")\n",
    "print(\"\\t- F1 Score: \", br_us_f1_score)"
   ]
  },
  {
   "cell_type": "code",
   "execution_count": 26,
   "metadata": {
    "pycharm": {
     "is_executing": false,
     "name": "#%%\n"
    }
   },
   "outputs": [
    {
     "name": "stdout",
     "output_type": "stream",
     "text": [
      "KNeighbors classifier without sampling:\n",
      "\n",
      "\t- Hamming Loss:  0.21054702872884692 \n",
      "\n",
      "\t- F1 Score:  0.4171119638846602\n",
      "\n",
      "\n",
      "KNeighbors classifier with sampling:\n",
      "\n",
      "\t- Hamming Loss:  0.3724911452184179 \n",
      "\n",
      "\t- F1 Score:  0.4435257841700581\n"
     ]
    }
   ],
   "source": [
    "# Generate a Binary relevance classifier without sampling\n",
    "br = BinaryRelevance(KNeighborsClassifier, func_labels)\n",
    "br.fit(data_train, func_train)\n",
    "func_pred = br.predict(data_test)\n",
    "\n",
    "# Calculate the hamming loss\n",
    "br_hamming_loss = hamming_loss(func_test, func_pred)\n",
    "\n",
    "# Calculate the f1 score\n",
    "br_f1_score = f1_score(func_test, func_pred, average = \"macro\")\n",
    "\n",
    "\n",
    "# Generate a Binary relevance classifier with sampling\n",
    "br_us = BinaryRelevance_UnderS(KNeighborsClassifier, func_labels, True)\n",
    "br_us.fit(data_train, func_train)\n",
    "func_us_pred = br_us.predict(data_test)\n",
    "\n",
    "# Calculate the hamming loss\n",
    "br_us_hamming_loss = hamming_loss(func_test, func_us_pred)\n",
    "\n",
    "# Calculate the f1 score\n",
    "br_us_f1_score = f1_score(func_test, func_us_pred, average = \"macro\")\n",
    "\n",
    "print(\"KNeighbors classifier without sampling:\\n\")\n",
    "print(\"\\t- Hamming Loss: \", br_hamming_loss, \"\\n\")\n",
    "print(\"\\t- F1 Score: \", br_f1_score)\n",
    "\n",
    "print(\"\\n\\nKNeighbors classifier with sampling:\\n\")\n",
    "print(\"\\t- Hamming Loss: \", br_us_hamming_loss, \"\\n\")\n",
    "print(\"\\t- F1 Score: \", br_us_f1_score)"
   ]
  },
  {
   "cell_type": "code",
   "execution_count": 30,
   "metadata": {
    "pycharm": {
     "is_executing": false,
     "name": "#%%\n"
    }
   },
   "outputs": [
    {
     "name": "stdout",
     "output_type": "stream",
     "text": [
      "LogisticRegression classifier without sampling:\n",
      "\n",
      "\t- Hamming Loss:  0.2085792994883904 \n",
      "\n",
      "\t- F1 Score:  0.3361452699253122\n",
      "\n",
      "\n",
      "LogisticRegression classifier with sampling:\n",
      "\n",
      "\t- Hamming Loss:  0.3737701692247147 \n",
      "\n",
      "\t- F1 Score:  0.4354239044216425\n"
     ]
    }
   ],
   "source": [
    "# Generate a Binary relevance classifier without sampling\n",
    "br = BinaryRelevance(LogisticRegression, func_labels)\n",
    "br.fit(data_train, func_train)\n",
    "func_pred = br.predict(data_test)\n",
    "\n",
    "# Calculate the hamming loss\n",
    "br_hamming_loss = hamming_loss(func_test, func_pred)\n",
    "\n",
    "# Calculate the f1 score\n",
    "br_f1_score = f1_score(func_test, func_pred, average = \"macro\")\n",
    "\n",
    "\n",
    "# Generate a Binary relevance classifier with sampling\n",
    "br_us = BinaryRelevance_UnderS(LogisticRegression, func_labels, True)\n",
    "br_us.fit(data_train, func_train)\n",
    "func_us_pred = br_us.predict(data_test)\n",
    "\n",
    "# Calculate the hamming loss\n",
    "br_us_hamming_loss = hamming_loss(func_test, func_us_pred)\n",
    "\n",
    "# Calculate the f1 score\n",
    "br_us_f1_score = f1_score(func_test, func_us_pred, average = \"macro\")\n",
    "\n",
    "print(\"LogisticRegression classifier without sampling:\\n\")\n",
    "print(\"\\t- Hamming Loss: \", br_hamming_loss, \"\\n\")\n",
    "print(\"\\t- F1 Score: \", br_f1_score)\n",
    "\n",
    "print(\"\\n\\nLogisticRegression classifier with sampling:\\n\")\n",
    "print(\"\\t- Hamming Loss: \", br_us_hamming_loss, \"\\n\")\n",
    "print(\"\\t- F1 Score: \", br_us_f1_score)"
   ]
  },
  {
   "cell_type": "markdown",
   "metadata": {},
   "source": [
    "## Task 4: Implement the Classifier Chains Algorithm"
   ]
  },
  {
   "cell_type": "code",
   "execution_count": 31,
   "metadata": {
    "pycharm": {
     "is_executing": false
    }
   },
   "outputs": [],
   "source": [
    "# Classifier Chains algorithms\n",
    "class ClassifierChains():\n",
    "    \n",
    "    # Constructor: input the classifer and the labels of the functional class\n",
    "    def __init__(self, classifier, labels):\n",
    "        self.models = dict()\n",
    "        self.labels = labels\n",
    "        self.classifier = classifier\n",
    "        \n",
    "    # Fit function, train the classifier\n",
    "    def fit(self, data_train, func_train):\n",
    "        \n",
    "        # Select the train set from the feature set\n",
    "        X = data_train[:, :103]\n",
    "        \n",
    "        # Iterate all class labels, create each model\n",
    "        for i in range(len(self.labels)):\n",
    "            y = np.transpose(func_train[:, i])\n",
    "            self.models[i] = self.classifier().fit(X, y)\n",
    "            \n",
    "            # Chain here, to connect X and y\n",
    "            X = np.c_[X, y]\n",
    "            \n",
    "        return self\n",
    "           \n",
    "    # The prediction function\n",
    "    def predict(self, X):\n",
    "        \n",
    "        # Initialized an empty list to store all predictions\n",
    "        pred = list()\n",
    "        \n",
    "        # Iterate all class labels to get each prediction\n",
    "        for i in range(len(self.labels)):\n",
    "            pred.append(self.models[i].predict(X[:, :103+i]))\n",
    "        \n",
    "        return np.transpose(np.array(pred))"
   ]
  },
  {
   "cell_type": "markdown",
   "metadata": {},
   "source": [
    "## Task 5: Evaluate the Performance of the Classifier Chains Algorithm"
   ]
  },
  {
   "cell_type": "code",
   "execution_count": 16,
   "metadata": {
    "pycharm": {
     "is_executing": false
    }
   },
   "outputs": [],
   "source": [
    "# Generate a new data set\n",
    "data_cc = np.array(dataSet)\n",
    "\n",
    "# Slipt the train set and test set from the feature and class labels\n",
    "data_train_cc, data_test_cc, func_train_cc, func_test_cc = train_test_split(data_cc, funcClasses, random_state = 0, train_size = 0.7)"
   ]
  },
  {
   "cell_type": "code",
   "execution_count": 38,
   "metadata": {
    "pycharm": {
     "is_executing": false,
     "name": "#%%\n"
    }
   },
   "outputs": [
    {
     "name": "stdout",
     "output_type": "stream",
     "text": [
      "GaussianNB classifier with Classifier Chain:\n",
      "\n",
      "\t- Hamming Loss:  0.21861471861471862 \n",
      "\n",
      "\t- F1 Score:  0.5664085982787397\n",
      "\n",
      "\n",
      "GaussianNB classifier without sampling:\n",
      "\n",
      "\t- Hamming Loss:  0.2973238882329791 \n",
      "\n",
      "\t- F1 Score:  0.4441966958169542\n",
      "\n",
      "\n",
      "GaussianNB classifier with sampling:\n",
      "\n",
      "\t- Hamming Loss:  0.37298307752853205 \n",
      "\n",
      "\t- F1 Score:  0.4393360855066418\n"
     ]
    }
   ],
   "source": [
    "# Generate a Classifier Chain classifier\n",
    "cc = ClassifierChains(GaussianNB, func_labels)\n",
    "cc.fit(data_train_cc, func_train_cc)\n",
    "func_pred_cc = cc.predict(data_test_cc)\n",
    "\n",
    "# Calculate the hamming loss\n",
    "cc_hamming_loss = hamming_loss(func_test_cc, func_pred_cc)\n",
    "\n",
    "# Calculate the f1 score\n",
    "cc_f1_score = f1_score(func_test_cc, func_pred_cc, average = \"macro\")\n",
    "\n",
    "\n",
    "# Generate a Binary relevance classifier without sampling\n",
    "br = BinaryRelevance(GaussianNB, func_labels)\n",
    "br.fit(data_train, func_train)\n",
    "func_pred = br.predict(data_test)\n",
    "\n",
    "# Calculate the hamming loss\n",
    "br_hamming_loss = hamming_loss(func_test, func_pred)\n",
    "\n",
    "# Calculate the f1 score\n",
    "br_f1_score = f1_score(func_test, func_pred, average = \"macro\")\n",
    "\n",
    "\n",
    "# Generate a Binary relevance classifier with sampling\n",
    "br_us = BinaryRelevance_UnderS(GaussianNB, func_labels, True)\n",
    "br_us.fit(data_train, func_train)\n",
    "func_us_pred = br_us.predict(data_test)\n",
    "\n",
    "# Calculate the hamming loss\n",
    "br_us_hamming_loss = hamming_loss(func_test, func_us_pred)\n",
    "\n",
    "# Calculate the f1 score\n",
    "br_us_f1_score = f1_score(func_test, func_us_pred, average = \"macro\")\n",
    "\n",
    "print(\"GaussianNB classifier with Classifier Chain:\\n\")\n",
    "print(\"\\t- Hamming Loss: \", cc_hamming_loss, \"\\n\")\n",
    "print(\"\\t- F1 Score: \", cc_f1_score)\n",
    "\n",
    "print(\"\\n\\nGaussianNB classifier without sampling:\\n\")\n",
    "print(\"\\t- Hamming Loss: \", br_hamming_loss, \"\\n\")\n",
    "print(\"\\t- F1 Score: \", br_f1_score)\n",
    "\n",
    "print(\"\\n\\nGaussianNB classifier with sampling:\\n\")\n",
    "print(\"\\t- Hamming Loss: \", br_us_hamming_loss, \"\\n\")\n",
    "print(\"\\t- F1 Score: \", br_us_f1_score)"
   ]
  },
  {
   "cell_type": "markdown",
   "metadata": {},
   "source": [
    "## Task 6: Reflect on the Performance of the Different Models Evaluated"
   ]
  },
  {
   "cell_type": "markdown",
   "metadata": {},
   "source": [
    "In task 5, with gaussian bayes classifer, the hamming loss in mehtod classifer chain is much lower than traditional binary relevance classifier and F1 score is the highest in the above three classifier. Compare with the sampleing method and non-sampling method, the sampling one has lower hammming loss, while the f1 score is close. So, in the task 3, we use 3 different classifier to test the smapling and non-sampling. The result shows that , sampling method has much higher F1 score and lower hamming loss.\n",
    "\n",
    "print(\"GaussianNB classifier without sampling:\\n\")\n",
    "print(\"\\t- Hamming Loss: \", br_hamming_loss, \"\\n\")\n",
    "print(\"\\t- F1 Score: \", br_f1_score)"
   ]
  },
  {
   "cell_type": "markdown",
   "metadata": {},
   "source": [
    "\n"
   ]
  }
 ],
 "metadata": {
  "kernelspec": {
   "display_name": "Python 3",
   "language": "python",
   "name": "python3"
  },
  "language_info": {
   "codemirror_mode": {
    "name": "ipython",
    "version": 3
   },
   "file_extension": ".py",
   "mimetype": "text/x-python",
   "name": "python",
   "nbconvert_exporter": "python",
   "pygments_lexer": "ipython3",
   "version": "3.7.7"
  },
  "pycharm": {
   "stem_cell": {
    "cell_type": "raw",
    "metadata": {
     "collapsed": false
    },
    "source": []
   }
  }
 },
 "nbformat": 4,
 "nbformat_minor": 2
}
